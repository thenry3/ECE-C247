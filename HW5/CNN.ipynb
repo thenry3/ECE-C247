{
 "cells": [
  {
   "cell_type": "markdown",
   "metadata": {},
   "source": [
    "# Convolutional neural networks\n",
    "\n",
    "In this notebook, we'll put together our convolutional layers to implement a 3-layer CNN.  Then, we'll ask you to implement a CNN that can achieve > 65% validation error on CIFAR-10.\n",
    "\n",
    "CS231n has built a solid API for building these modular frameworks and training them, and we will use their very well implemented framework as opposed to \"reinventing the wheel.\"  This includes using their Solver, various utility functions, their layer structure, and their implementation of fast CNN layers.  This also includes nndl.fc_net, nndl.layers, and nndl.layer_utils.  As in prior assignments, we thank Serena Yeung & Justin Johnson for permission to use code written for the CS 231n class (cs231n.stanford.edu).  \n",
    "\n",
    "\n",
    "If you have not completed the Spatial BatchNorm Notebook, please see the following description from that notebook:\n",
    "\n",
    "Please copy and paste your prior implemented code from HW #4 to start this assignment.  If you did not correctly implement the layers in HW #4, you may collaborate with a classmate to use their layer implementations from HW #4.  You may also visit TA or Prof OH to correct your implementation.  \n",
    "\n",
    "You'll want to copy and paste from HW #4:\n",
    "    - layers.py for your FC network layers, as well as batchnorm and dropout.\n",
    "    - layer_utils.py for your combined FC network layers.\n",
    "    - optim.py for your optimizers.\n",
    "\n",
    "Be sure to place these in the `nndl/` directory so they're imported correctly.  Note, as announced in class, we will not be releasing our solutions."
   ]
  },
  {
   "cell_type": "code",
   "execution_count": 1,
   "metadata": {},
   "outputs": [],
   "source": [
    "# As usual, a bit of setup\n",
    "\n",
    "import numpy as np\n",
    "import matplotlib.pyplot as plt\n",
    "from nndl.cnn import *\n",
    "from cs231n.data_utils import get_CIFAR10_data\n",
    "from cs231n.gradient_check import eval_numerical_gradient_array, eval_numerical_gradient\n",
    "from nndl.layers import *\n",
    "from nndl.conv_layers import *\n",
    "from cs231n.fast_layers import *\n",
    "from cs231n.solver import Solver\n",
    "\n",
    "%matplotlib inline\n",
    "plt.rcParams['figure.figsize'] = (10.0, 8.0) # set default size of plots\n",
    "plt.rcParams['image.interpolation'] = 'nearest'\n",
    "plt.rcParams['image.cmap'] = 'gray'\n",
    "\n",
    "# for auto-reloading external modules\n",
    "# see http://stackoverflow.com/questions/1907993/autoreload-of-modules-in-ipython\n",
    "%load_ext autoreload\n",
    "%autoreload 2\n",
    "\n",
    "def rel_error(x, y):\n",
    "  \"\"\" returns relative error \"\"\"\n",
    "  return np.max(np.abs(x - y) / (np.maximum(1e-8, np.abs(x) + np.abs(y))))"
   ]
  },
  {
   "cell_type": "code",
   "execution_count": 2,
   "metadata": {},
   "outputs": [
    {
     "name": "stdout",
     "output_type": "stream",
     "text": [
      "X_train: (49000, 3, 32, 32) \n",
      "y_train: (49000,) \n",
      "X_val: (1000, 3, 32, 32) \n",
      "y_val: (1000,) \n",
      "X_test: (1000, 3, 32, 32) \n",
      "y_test: (1000,) \n"
     ]
    }
   ],
   "source": [
    "# Load the (preprocessed) CIFAR10 data.\n",
    "\n",
    "data = get_CIFAR10_data()\n",
    "for k in data.keys():\n",
    "  print('{}: {} '.format(k, data[k].shape))"
   ]
  },
  {
   "cell_type": "markdown",
   "metadata": {},
   "source": [
    "## Three layer CNN\n",
    "\n",
    "In this notebook, you will implement a three layer CNN.  The `ThreeLayerConvNet` class is in `nndl/cnn.py`.  You'll need to modify that code for this section, including the initialization, as well as the calculation of the loss and gradients.  You should be able to use the building blocks you have either earlier coded or that we have provided.  Be sure to use the fast layers.\n",
    "\n",
    "The architecture of this CNN will be:\n",
    "\n",
    "conv - relu - 2x2 max pool - affine - relu - affine - softmax\n",
    "\n",
    "We won't use batchnorm yet.  You've also done enough of these to know how to debug; use the cells below.\n",
    "\n",
    "Note: As we are implementing several layers CNN networks. The gradient error can be expected for the `eval_numerical_gradient()` function. If your `W1 max relative error` and `W2 max relative error` are around or below 0.01, they should be acceptable. Other errors should be less than 1e-5. "
   ]
  },
  {
   "cell_type": "code",
   "execution_count": 3,
   "metadata": {},
   "outputs": [
    {
     "name": "stdout",
     "output_type": "stream",
     "text": [
      "W1 max relative error: 0.000475852765676189\n",
      "W2 max relative error: 0.015928998799602752\n",
      "W3 max relative error: 3.3533320484693436e-05\n",
      "b1 max relative error: 2.7440025501434394e-05\n",
      "b2 max relative error: 2.740550688605212e-07\n",
      "b3 max relative error: 9.891609720046268e-10\n"
     ]
    }
   ],
   "source": [
    "num_inputs = 2\n",
    "input_dim = (3, 16, 16)\n",
    "reg = 0.0\n",
    "num_classes = 10\n",
    "X = np.random.randn(num_inputs, *input_dim)\n",
    "y = np.random.randint(num_classes, size=num_inputs)\n",
    "\n",
    "model = ThreeLayerConvNet(num_filters=3, filter_size=3,\n",
    "                          input_dim=input_dim, hidden_dim=7,\n",
    "                          dtype=np.float64)\n",
    "loss, grads = model.loss(X, y)\n",
    "for param_name in sorted(grads):\n",
    "    f = lambda _: model.loss(X, y)[0]\n",
    "    param_grad_num = eval_numerical_gradient(f, model.params[param_name], verbose=False, h=1e-6)\n",
    "    e = rel_error(param_grad_num, grads[param_name])\n",
    "    print('{} max relative error: {}'.format(param_name, rel_error(param_grad_num, grads[param_name])))"
   ]
  },
  {
   "cell_type": "markdown",
   "metadata": {},
   "source": [
    "### Overfit small dataset\n",
    "\n",
    "To check your CNN implementation, let's overfit a small dataset."
   ]
  },
  {
   "cell_type": "code",
   "execution_count": 4,
   "metadata": {},
   "outputs": [
    {
     "name": "stdout",
     "output_type": "stream",
     "text": [
      "(Iteration 1 / 20) loss: 2.393082\n",
      "(Epoch 0 / 10) train acc: 0.200000; val_acc: 0.131000\n",
      "(Iteration 2 / 20) loss: 3.717771\n",
      "(Epoch 1 / 10) train acc: 0.160000; val_acc: 0.080000\n",
      "(Iteration 3 / 20) loss: 4.288917\n",
      "(Iteration 4 / 20) loss: 2.790607\n",
      "(Epoch 2 / 10) train acc: 0.190000; val_acc: 0.120000\n",
      "(Iteration 5 / 20) loss: 2.521613\n",
      "(Iteration 6 / 20) loss: 2.129249\n",
      "(Epoch 3 / 10) train acc: 0.090000; val_acc: 0.100000\n",
      "(Iteration 7 / 20) loss: 2.128724\n",
      "(Iteration 8 / 20) loss: 2.002704\n",
      "(Epoch 4 / 10) train acc: 0.230000; val_acc: 0.128000\n",
      "(Iteration 9 / 20) loss: 1.956514\n",
      "(Iteration 10 / 20) loss: 1.750739\n",
      "(Epoch 5 / 10) train acc: 0.500000; val_acc: 0.196000\n",
      "(Iteration 11 / 20) loss: 1.751019\n",
      "(Iteration 12 / 20) loss: 1.292568\n",
      "(Epoch 6 / 10) train acc: 0.580000; val_acc: 0.186000\n",
      "(Iteration 13 / 20) loss: 1.342441\n",
      "(Iteration 14 / 20) loss: 1.261111\n",
      "(Epoch 7 / 10) train acc: 0.670000; val_acc: 0.187000\n",
      "(Iteration 15 / 20) loss: 1.052230\n",
      "(Iteration 16 / 20) loss: 1.146708\n",
      "(Epoch 8 / 10) train acc: 0.620000; val_acc: 0.182000\n",
      "(Iteration 17 / 20) loss: 1.019153\n",
      "(Iteration 18 / 20) loss: 0.862032\n",
      "(Epoch 9 / 10) train acc: 0.730000; val_acc: 0.196000\n",
      "(Iteration 19 / 20) loss: 0.874537\n",
      "(Iteration 20 / 20) loss: 0.682850\n",
      "(Epoch 10 / 10) train acc: 0.770000; val_acc: 0.179000\n"
     ]
    }
   ],
   "source": [
    "num_train = 100\n",
    "small_data = {\n",
    "  'X_train': data['X_train'][:num_train],\n",
    "  'y_train': data['y_train'][:num_train],\n",
    "  'X_val': data['X_val'],\n",
    "  'y_val': data['y_val'],\n",
    "}\n",
    "\n",
    "model = ThreeLayerConvNet(weight_scale=1e-2)\n",
    "\n",
    "solver = Solver(model, small_data,\n",
    "                num_epochs=10, batch_size=50,\n",
    "                update_rule='adam',\n",
    "                optim_config={\n",
    "                  'learning_rate': 1e-3,\n",
    "                },\n",
    "                verbose=True, print_every=1)\n",
    "solver.train()"
   ]
  },
  {
   "cell_type": "code",
   "execution_count": 5,
   "metadata": {},
   "outputs": [
    {
     "data": {
      "image/png": "[encoded data removed]",
      "text/plain": [
       "<Figure size 720x576 with 2 Axes>"
      ]
     },
     "metadata": {
      "needs_background": "light"
     },
     "output_type": "display_data"
    }
   ],
   "source": [
    "plt.subplot(2, 1, 1)\n",
    "plt.plot(solver.loss_history, 'o')\n",
    "plt.xlabel('iteration')\n",
    "plt.ylabel('loss')\n",
    "\n",
    "plt.subplot(2, 1, 2)\n",
    "plt.plot(solver.train_acc_history, '-o')\n",
    "plt.plot(solver.val_acc_history, '-o')\n",
    "plt.legend(['train', 'val'], loc='upper left')\n",
    "plt.xlabel('epoch')\n",
    "plt.ylabel('accuracy')\n",
    "plt.show()"
   ]
  },
  {
   "cell_type": "markdown",
   "metadata": {},
   "source": [
    "## Train the network\n",
    "\n",
    "Now we train the 3 layer CNN on CIFAR-10 and assess its accuracy."
   ]
  },
  {
   "cell_type": "code",
   "execution_count": 6,
   "metadata": {
    "scrolled": false
   },
   "outputs": [
    {
     "name": "stdout",
     "output_type": "stream",
     "text": [
      "(Iteration 1 / 980) loss: 2.302467\n",
      "(Epoch 0 / 1) train acc: 0.116000; val_acc: 0.080000\n",
      "(Iteration 21 / 980) loss: 2.099878\n",
      "(Iteration 41 / 980) loss: 1.963387\n",
      "(Iteration 61 / 980) loss: 2.180419\n",
      "(Iteration 81 / 980) loss: 1.917586\n",
      "(Iteration 101 / 980) loss: 1.978220\n",
      "(Iteration 121 / 980) loss: 1.726445\n",
      "(Iteration 141 / 980) loss: 2.075166\n",
      "(Iteration 161 / 980) loss: 1.768494\n",
      "(Iteration 181 / 980) loss: 1.830292\n",
      "(Iteration 201 / 980) loss: 2.036363\n",
      "(Iteration 221 / 980) loss: 1.571838\n",
      "(Iteration 241 / 980) loss: 1.729425\n",
      "(Iteration 261 / 980) loss: 1.682756\n",
      "(Iteration 281 / 980) loss: 1.640901\n",
      "(Iteration 301 / 980) loss: 1.660780\n",
      "(Iteration 321 / 980) loss: 1.527989\n",
      "(Iteration 341 / 980) loss: 1.556526\n",
      "(Iteration 361 / 980) loss: 1.683572\n",
      "(Iteration 381 / 980) loss: 1.739082\n",
      "(Iteration 401 / 980) loss: 1.583937\n",
      "(Iteration 421 / 980) loss: 1.597860\n",
      "(Iteration 441 / 980) loss: 1.405258\n",
      "(Iteration 461 / 980) loss: 1.594388\n",
      "(Iteration 481 / 980) loss: 1.914016\n",
      "(Iteration 501 / 980) loss: 1.705359\n",
      "(Iteration 521 / 980) loss: 1.557393\n",
      "(Iteration 541 / 980) loss: 1.684552\n",
      "(Iteration 561 / 980) loss: 1.956618\n",
      "(Iteration 581 / 980) loss: 1.899601\n",
      "(Iteration 601 / 980) loss: 1.651322\n",
      "(Iteration 621 / 980) loss: 1.679579\n",
      "(Iteration 641 / 980) loss: 1.845373\n",
      "(Iteration 661 / 980) loss: 1.662523\n",
      "(Iteration 681 / 980) loss: 1.413611\n",
      "(Iteration 701 / 980) loss: 1.234359\n",
      "(Iteration 721 / 980) loss: 1.640062\n",
      "(Iteration 741 / 980) loss: 1.553973\n",
      "(Iteration 761 / 980) loss: 1.650290\n",
      "(Iteration 781 / 980) loss: 1.614743\n",
      "(Iteration 801 / 980) loss: 1.634004\n",
      "(Iteration 821 / 980) loss: 1.394864\n",
      "(Iteration 841 / 980) loss: 1.225206\n",
      "(Iteration 861 / 980) loss: 1.720570\n",
      "(Iteration 881 / 980) loss: 1.557522\n",
      "(Iteration 901 / 980) loss: 1.345695\n",
      "(Iteration 921 / 980) loss: 1.897376\n",
      "(Iteration 941 / 980) loss: 1.653994\n",
      "(Iteration 961 / 980) loss: 1.504766\n",
      "(Epoch 1 / 1) train acc: 0.460000; val_acc: 0.473000\n"
     ]
    }
   ],
   "source": [
    "model = ThreeLayerConvNet(weight_scale=0.001, hidden_dim=500, reg=0.001)\n",
    "\n",
    "solver = Solver(model, data,\n",
    "                num_epochs=1, batch_size=50,\n",
    "                update_rule='adam',\n",
    "                optim_config={\n",
    "                  'learning_rate': 1e-3,\n",
    "                },\n",
    "                verbose=True, print_every=20)\n",
    "solver.train()"
   ]
  },
  {
   "cell_type": "markdown",
   "metadata": {},
   "source": [
    "# Get > 65% validation accuracy on CIFAR-10.\n",
    "\n",
    "In the last part of the assignment, we'll now ask you to train a CNN to get better than 65% validation accuracy on CIFAR-10.\n",
    "\n",
    "### Things you should try:\n",
    "- Filter size: Above we used 7x7; but VGGNet and onwards showed stacks of 3x3 filters are good.  \n",
    "- Number of filters: Above we used 32 filters. Do more or fewer do better?\n",
    "- Batch normalization: Try adding spatial batch normalization after convolution layers and vanilla batch normalization aafter affine layers. Do your networks train faster?\n",
    "- Network architecture: Can a deeper CNN do better?  Consider these architectures:\n",
    "    - [conv-relu-pool]xN - conv - relu - [affine]xM - [softmax or SVM]\n",
    "    - [conv-relu-pool]XN - [affine]XM - [softmax or SVM]\n",
    "    - [conv-relu-conv-relu-pool]xN - [affine]xM - [softmax or SVM]\n",
    "\n",
    "### Tips for training\n",
    "For each network architecture that you try, you should tune the learning rate and regularization strength. When doing this there are a couple important things to keep in mind:\n",
    "\n",
    "- If the parameters are working well, you should see improvement within a few hundred iterations\n",
    "- Remember the coarse-to-fine approach for hyperparameter tuning: start by testing a large range of hyperparameters for just a few training iterations to find the combinations of parameters that are working at all.\n",
    "- Once you have found some sets of parameters that seem to work, search more finely around these parameters. You may need to train for more epochs."
   ]
  },
  {
   "cell_type": "code",
   "execution_count": 15,
   "metadata": {
    "scrolled": false
   },
   "outputs": [
    {
     "name": "stdout",
     "output_type": "stream",
     "text": [
      "(Iteration 1 / 2450) loss: 2.302594\n",
      "(Epoch 0 / 10) train acc: 0.103000; val_acc: 0.113000\n",
      "(Iteration 101 / 2450) loss: 1.467248\n",
      "(Iteration 201 / 2450) loss: 1.524013\n",
      "(Epoch 1 / 10) train acc: 0.485000; val_acc: 0.543000\n",
      "(Iteration 301 / 2450) loss: 1.309879\n",
      "(Iteration 401 / 2450) loss: 1.104998\n",
      "(Epoch 2 / 10) train acc: 0.610000; val_acc: 0.595000\n",
      "(Iteration 501 / 2450) loss: 1.099376\n",
      "(Iteration 601 / 2450) loss: 1.166354\n",
      "(Iteration 701 / 2450) loss: 0.892562\n",
      "(Epoch 3 / 10) train acc: 0.632000; val_acc: 0.584000\n",
      "(Iteration 801 / 2450) loss: 0.806922\n",
      "(Iteration 901 / 2450) loss: 0.934751\n",
      "(Epoch 4 / 10) train acc: 0.718000; val_acc: 0.638000\n",
      "(Iteration 1001 / 2450) loss: 0.938080\n",
      "(Iteration 1101 / 2450) loss: 0.860273\n",
      "(Iteration 1201 / 2450) loss: 0.714308\n",
      "(Epoch 5 / 10) train acc: 0.736000; val_acc: 0.637000\n",
      "(Iteration 1301 / 2450) loss: 0.902713\n",
      "(Iteration 1401 / 2450) loss: 0.781563\n",
      "(Epoch 6 / 10) train acc: 0.735000; val_acc: 0.659000\n",
      "(Iteration 1501 / 2450) loss: 0.793707\n",
      "(Iteration 1601 / 2450) loss: 0.660455\n",
      "(Iteration 1701 / 2450) loss: 0.643252\n",
      "(Epoch 7 / 10) train acc: 0.766000; val_acc: 0.669000\n",
      "(Iteration 1801 / 2450) loss: 0.638020\n",
      "(Iteration 1901 / 2450) loss: 0.681887\n",
      "(Epoch 8 / 10) train acc: 0.790000; val_acc: 0.659000\n",
      "(Iteration 2001 / 2450) loss: 0.633270\n",
      "(Iteration 2101 / 2450) loss: 0.747110\n",
      "(Iteration 2201 / 2450) loss: 0.581840\n",
      "(Epoch 9 / 10) train acc: 0.795000; val_acc: 0.674000\n",
      "(Iteration 2301 / 2450) loss: 0.501262\n",
      "(Iteration 2401 / 2450) loss: 0.452028\n",
      "(Epoch 10 / 10) train acc: 0.808000; val_acc: 0.680000\n",
      "Validation Accuracy: 0.68\n"
     ]
    }
   ],
   "source": [
    "# ================================================================ #\n",
    "# YOUR CODE HERE:\n",
    "#   Implement a CNN to achieve greater than 65% validation accuracy\n",
    "#   on CIFAR-10.\n",
    "# ================================================================ #\n",
    "\n",
    "weight_scale = 1e-3\n",
    "hidden_dim = 300\n",
    "reg = 0.0014\n",
    "lr = 1e-3\n",
    "\n",
    "model = ThreeLayerConvNet(weight_scale=weight_scale, hidden_dim=hidden_dim, reg=reg, filter_size=5)\n",
    "\n",
    "solver = Solver(model, data, num_epochs=10, batch_size=200, update_rule='adam',\n",
    "                optim_config={\n",
    "                  'learning_rate': lr,\n",
    "                },\n",
    "                lr_decay = 0.95,\n",
    "                verbose=True, print_every=100)\n",
    "solver.train()\n",
    "\n",
    "y_val = np.argmax(model.loss(data[\"X_val\"]), axis=1)\n",
    "print(\"Validation Accuracy:\", np.mean(y_val == data[\"y_val\"]))\n",
    "\n",
    "# ================================================================ #\n",
    "# END YOUR CODE HERE\n",
    "# ================================================================ #\n"
   ]
  },
  {
   "cell_type": "code",
   "execution_count": null,
   "metadata": {},
   "outputs": [],
   "source": []
  }
 ],
 "metadata": {
  "kernelspec": {
   "display_name": "Python 3",
   "language": "python",
   "name": "python3"
  },
  "language_info": {
   "codemirror_mode": {
    "name": "ipython",
    "version": 3
   },
   "file_extension": ".py",
   "mimetype": "text/x-python",
   "name": "python",
   "nbconvert_exporter": "python",
   "pygments_lexer": "ipython3",
   "version": "3.8.2"
  }
 },
 "nbformat": 4,
 "nbformat_minor": 2
}
